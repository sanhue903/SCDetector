{
  "nbformat": 4,
  "nbformat_minor": 0,
  "metadata": {
    "colab": {
      "provenance": [],
      "gpuType": "T4"
    },
    "kernelspec": {
      "name": "python3",
      "display_name": "Python 3"
    },
    "language_info": {
      "name": "python"
    },
    "accelerator": "GPU"
  },
  "cells": [
    {
      "cell_type": "markdown",
      "source": [
        "PARA UTILIZAR GPU:\n",
        "\n",
        "Presiona Entorno de ejecución o Runtime, luego en cambiar tipo. Ahí seleccionan GPU."
      ],
      "metadata": {
        "id": "WR6KX2HSgHSJ"
      }
    },
    {
      "cell_type": "code",
      "execution_count": null,
      "metadata": {
        "id": "2TNLM2ks9Aq8",
        "colab": {
          "base_uri": "https://localhost:8080/"
        },
        "outputId": "79ee5ced-6e50-4bac-d2d7-6737160e877a"
      },
      "outputs": [
        {
          "output_type": "stream",
          "name": "stdout",
          "text": [
            "cuda:0\n"
          ]
        }
      ],
      "source": [
        "import torch\n",
        "\n",
        "DEVICE = torch.device(\"cuda:0\" if torch.cuda.is_available() else \"cpu\")\n",
        "print(DEVICE)"
      ]
    },
    {
      "cell_type": "code",
      "source": [],
      "metadata": {
        "id": "OtM2SU9Ii7Xg"
      },
      "execution_count": null,
      "outputs": []
    }
  ]
}